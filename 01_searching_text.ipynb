{
 "cells": [
  {
   "cell_type": "markdown",
   "metadata": {},
   "source": [
    "##### Import nltk and get all the Gutenburg collection.\n",
    "if you get an error saying \"Resource gutenberg not found.\", run the code commented out below and select \"book\" from the nltk download interface\n"
   ]
  },
  {
   "cell_type": "code",
   "execution_count": 3,
   "metadata": {},
   "outputs": [
    {
     "name": "stdout",
     "output_type": "stream",
     "text": [
      "*** Introductory Examples for the NLTK Book ***\n",
      "Loading text1, ..., text9 and sent1, ..., sent9\n",
      "Type the name of the text or sentence to view it.\n",
      "Type: 'texts()' or 'sents()' to list the materials.\n",
      "text1: Moby Dick by Herman Melville 1851\n",
      "text2: Sense and Sensibility by Jane Austen 1811\n",
      "text3: The Book of Genesis\n",
      "text4: Inaugural Address Corpus\n",
      "text5: Chat Corpus\n",
      "text6: Monty Python and the Holy Grail\n",
      "text7: Wall Street Journal\n",
      "text8: Personals Corpus\n",
      "text9: The Man Who Was Thursday by G . K . Chesterton 1908\n"
     ]
    }
   ],
   "source": [
    "import nltk\n",
    "# nltk.download()\n",
    "from nltk.book import *"
   ]
  },
  {
   "cell_type": "code",
   "execution_count": 19,
   "metadata": {},
   "outputs": [
    {
     "name": "stdout",
     "output_type": "stream",
     "text": [
      "<class 'nltk.text.Text'>\n",
      "Displaying 25 of 231 matches:\n",
      "In the beginning God created the heaven and the earth . An\n",
      " face of the deep . And the Spirit of God moved upon the face of the waters . A\n",
      "ved upon the face of the waters . And God said , Let there be light : and there\n",
      " be light : and there was light . And God saw the light , that it was good : an\n",
      "aw the light , that it was good : and God divided the light from the darkness .\n",
      "ded the light from the darkness . And God called the light Day , and the darkne\n",
      " the morning were the first day . And God said , Let there be a firmament in th\n",
      "vide the waters from the waters . And God made the firmament , and divided the \n",
      "above the firmame and it was so . And God called the firmament Heaven . And the\n",
      "the morning were the second day . And God said , Let the waters under the heave\n",
      "the dry land appe and it was so . And God called the dry land Earth ; and the g\n",
      "gether of the waters called he Se and God saw that it was good . And God said ,\n",
      "Se and God saw that it was good . And God said , Let the earth bring forth gras\n",
      "seed was in itself , after his ki and God saw that it was good . And the evenin\n",
      " the morning were the third day . And God said , Let there be lights in the fir\n",
      "ight upon the ear and it was so . And God made two great lights ; the greater l\n",
      " the nig he made the stars also . And God set them in the firmament of the heav\n",
      " divide the light from the darkne and God saw that it was good . And the evenin\n",
      "the morning were the fourth day . And God said , Let the waters bring forth abu\n",
      "in the open firmament of heaven . And God created great whales , and every livi\n",
      "nd every winged fowl after his ki and God saw that it was good . And God blesse\n",
      "ki and God saw that it was good . And God blessed them , saying , Be fruitful ,\n",
      " the morning were the fifth day . And God said , Let the earth bring forth the \n",
      "arth after his ki and it was so . And God made the beast of the earth after his\n",
      "epeth upon the earth after his ki and God saw that it was good . And God said ,\n"
     ]
    }
   ],
   "source": [
    "print(type(text3))\n",
    "text3.concordance(\"God\")"
   ]
  },
  {
   "cell_type": "code",
   "execution_count": 13,
   "metadata": {},
   "outputs": [
    {
     "name": "stdout",
     "output_type": "stream",
     "text": [
      "he joseph pharaoh jacob they abraham she isaac sarah them him it i me\n",
      "abram laban thee cain esau judah\n"
     ]
    }
   ],
   "source": [
    "text3.similar(\"God\")"
   ]
  },
  {
   "cell_type": "code",
   "execution_count": 20,
   "metadata": {},
   "outputs": [
    {
     "name": "stderr",
     "output_type": "stream",
     "text": [
      "Building ngram index...\n"
     ]
    },
    {
     "name": "stdout",
     "output_type": "stream",
     "text": [
      "laid by her , and said unto Cain , Where art thou , and said , Go to ,\n",
      "I will not do it for ten ' s sons ; we dreamed each man according to\n",
      "their generatio the firstborn said unto Laban , Because I said , Nay ,\n",
      "but Sarah shall her name be . , duke Elah , duke Shobal , and Akan .\n",
      "and looked upon my affliction . Bashemath Ishmael ' s blood , but Isra\n",
      "for as a prince hast thou found of all the cattle in the valley , and\n",
      "the wo The\n"
     ]
    },
    {
     "data": {
      "text/plain": [
       "\"laid by her , and said unto Cain , Where art thou , and said , Go to ,\\nI will not do it for ten ' s sons ; we dreamed each man according to\\ntheir generatio the firstborn said unto Laban , Because I said , Nay ,\\nbut Sarah shall her name be . , duke Elah , duke Shobal , and Akan .\\nand looked upon my affliction . Bashemath Ishmael ' s blood , but Isra\\nfor as a prince hast thou found of all the cattle in the valley , and\\nthe wo The\""
      ]
     },
     "execution_count": 20,
     "metadata": {},
     "output_type": "execute_result"
    }
   ],
   "source": [
    "text3.generate()"
   ]
  },
  {
   "cell_type": "code",
   "execution_count": null,
   "metadata": {},
   "outputs": [],
   "source": []
  }
 ],
 "metadata": {
  "kernelspec": {
   "display_name": "Python 3",
   "language": "python",
   "name": "python3"
  },
  "language_info": {
   "codemirror_mode": {
    "name": "ipython",
    "version": 3
   },
   "file_extension": ".py",
   "mimetype": "text/x-python",
   "name": "python",
   "nbconvert_exporter": "python",
   "pygments_lexer": "ipython3",
   "version": "3.7.4"
  }
 },
 "nbformat": 4,
 "nbformat_minor": 2
}
