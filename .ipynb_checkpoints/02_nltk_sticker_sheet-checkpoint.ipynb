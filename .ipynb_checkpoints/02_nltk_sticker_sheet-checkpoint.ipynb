{
 "cells": [
  {
   "cell_type": "markdown",
   "metadata": {},
   "source": [
    "# Explore simple functions in the nltk library\n",
    "What can we achieve with existing programmed techniques?\n",
    "\n",
    "Here's a list of very simple functions you can just call out in order to explore a text\n",
    "\n",
    "We used \"Natural Language Processing with Python\" book chapters as our reference for this sticker sheet\n",
    "You can find the comprehensive documentation for chapter1 here: https://www.nltk.org/book/ch01.html"
   ]
  },
  {
   "cell_type": "code",
   "execution_count": 1,
   "metadata": {},
   "outputs": [
    {
     "name": "stdout",
     "output_type": "stream",
     "text": [
      "*** Introductory Examples for the NLTK Book ***\n",
      "Loading text1, ..., text9 and sent1, ..., sent9\n",
      "Type the name of the text or sentence to view it.\n",
      "Type: 'texts()' or 'sents()' to list the materials.\n",
      "text1: Moby Dick by Herman Melville 1851\n",
      "text2: Sense and Sensibility by Jane Austen 1811\n",
      "text3: The Book of Genesis\n",
      "text4: Inaugural Address Corpus\n",
      "text5: Chat Corpus\n",
      "text6: Monty Python and the Holy Grail\n",
      "text7: Wall Street Journal\n",
      "text8: Personals Corpus\n",
      "text9: The Man Who Was Thursday by G . K . Chesterton 1908\n"
     ]
    }
   ],
   "source": [
    "import nltk\n",
    "# run nltk.download() if you importing book shows error\n",
    "# and a window will jump out, you can click the book then 'install'\n",
    "from nltk.book import *"
   ]
  },
  {
   "cell_type": "markdown",
   "metadata": {},
   "source": [
    "Different from the raw txt file we got from the last notebook,\n",
    "here we are directly using the nltk text objects as they have many embeded functions and techniques we can play with"
   ]
  },
  {
   "cell_type": "code",
   "execution_count": 2,
   "metadata": {},
   "outputs": [
    {
     "data": {
      "text/plain": [
       "<Text: The Book of Genesis>"
      ]
     },
     "execution_count": 2,
     "metadata": {},
     "output_type": "execute_result"
    }
   ],
   "source": [
    "text3"
   ]
  },
  {
   "cell_type": "code",
   "execution_count": 3,
   "metadata": {},
   "outputs": [
    {
     "data": {
      "text/plain": [
       "nltk.text.Text"
      ]
     },
     "execution_count": 3,
     "metadata": {},
     "output_type": "execute_result"
    }
   ],
   "source": [
    "type(text3)"
   ]
  },
  {
   "cell_type": "markdown",
   "metadata": {},
   "source": [
    "## Working with your own raw text in nltk?\n",
    "\n",
    "we are using the nltk.text file for our sticker sheet  \n",
    "\n",
    "But of course you can use your own text, you can load your txt file as below to use nltk functions\n",
    "\n",
    "or you can learn more about using your raw text at: https://www.nltk.org/book/ch03.html"
   ]
  },
  {
   "cell_type": "code",
   "execution_count": null,
   "metadata": {},
   "outputs": [],
   "source": [
    "# you have to have the text file locally in relation to the jupyter notebook\n",
    "f=open('my-file.txt','rU') \n",
    "raw=f.read()\n",
    "tokens = nltk.word_tokenize(raw)\n",
    "text = nltk.Text(tokens)"
   ]
  },
  {
   "cell_type": "markdown",
   "metadata": {},
   "source": [
    "\n",
    "# ------------------------------------------\n",
    "\n",
    "# Search the text"
   ]
  },
  {
   "cell_type": "code",
   "execution_count": 4,
   "metadata": {},
   "outputs": [
    {
     "data": {
      "text/plain": [
       "27"
      ]
     },
     "execution_count": 4,
     "metadata": {},
     "output_type": "execute_result"
    }
   ],
   "source": [
    "# the index of a specific word\n",
    "text3.index('of')"
   ]
  },
  {
   "cell_type": "markdown",
   "metadata": {},
   "source": [
    "## concordance \n",
    "A concordance view shows us every occurrence of a given word, together with some context"
   ]
  },
  {
   "cell_type": "code",
   "execution_count": 6,
   "metadata": {},
   "outputs": [
    {
     "name": "stdout",
     "output_type": "stream",
     "text": [
      "Displaying 13 of 13 matches:\n",
      " of pious gratitude , along with an humble anticipation of the future blessing\n",
      " benign Parent of the Human Race in humble supplication that , since He has be\n",
      " by experience and age ; and , with humble reverence , I feel it to be my duty\n",
      "shrink from the contemplation , and humble myself before the magnitude of the \n",
      "ion In surmounting , in favor of my humble pretensions , the difficulties whic\n",
      "overruling providence I commit with humble but fearless confidence my own fate\n",
      "ake is the zealous dedication of my humble abilities to their service and thei\n",
      "ll be displayed to the extent of my humble abilities in continued efforts so t\n",
      "onal security but in the nation ' s humble , acknowledged dependence upon God \n",
      "empt to portray , because I feel an humble confidence that the kind Providence\n",
      "y precious in the lives of the most humble and of the most exalted . The men w\n",
      "new government for a new century -- humble enough not to try to solve all our \n",
      "nfolds before us , we remember with humble gratitude those brave Americans who\n"
     ]
    }
   ],
   "source": [
    "text4.concordance(\"humble\")"
   ]
  },
  {
   "cell_type": "markdown",
   "metadata": {},
   "source": [
    "### look up words with conditions"
   ]
  },
  {
   "cell_type": "code",
   "execution_count": 7,
   "metadata": {},
   "outputs": [
    {
     "data": {
      "text/plain": [
       "['antiphilosophists',\n",
       " 'constitutionally',\n",
       " 'constitutionally',\n",
       " 'discountenancing',\n",
       " 'misrepresentation',\n",
       " 'contradistinction',\n",
       " 'misunderstanding',\n",
       " 'responsibilities',\n",
       " 'responsibilities',\n",
       " 'unconstitutional',\n",
       " 'responsibilities',\n",
       " 'responsibilities',\n",
       " 'uncharitableness',\n",
       " 'unconstitutional',\n",
       " 'constitutionally',\n",
       " 'responsibilities',\n",
       " 'constitutionally',\n",
       " 'responsibilities',\n",
       " 'misrepresentation',\n",
       " 'instrumentalities']"
      ]
     },
     "execution_count": 7,
     "metadata": {},
     "output_type": "execute_result"
    }
   ],
   "source": [
    "long_words = [w for w in text4 if len(w) > 15]\n",
    "long_words[:20]"
   ]
  },
  {
   "cell_type": "markdown",
   "metadata": {},
   "source": [
    "## hapaxes\n",
    "\n",
    "words that only occur once are called hapaxes, nltk has a function to grab them too"
   ]
  },
  {
   "cell_type": "code",
   "execution_count": 8,
   "metadata": {},
   "outputs": [
    {
     "name": "stdout",
     "output_type": "stream",
     "text": [
      "['form', 'void', 'Day', 'Night', 'firmame', 'Heaven', 'appe', 'Earth', 'signs', 'seasons', 'lesser', 'nig', 'darkne', 'fly', 'whales', 'winged', 'seas', 'likene', 'subdue', 'finished']\n"
     ]
    }
   ],
   "source": [
    "freq_dist = FreqDist(text3)\n",
    "print(freq_dist.hapaxes()[:20])"
   ]
  },
  {
   "cell_type": "markdown",
   "metadata": {},
   "source": [
    "## common words in different languages?\n",
    "\n",
    "Swadesh wordlists are lists of 200 common words in several languages"
   ]
  },
  {
   "cell_type": "code",
   "execution_count": 9,
   "metadata": {},
   "outputs": [
    {
     "name": "stdout",
     "output_type": "stream",
     "text": [
      "['be', 'bg', 'bs', 'ca', 'cs', 'cu', 'de', 'en', 'es', 'fr', 'hr', 'it', 'la', 'mk', 'nl', 'pl', 'pt', 'ro', 'ru', 'sk', 'sl', 'sr', 'sw', 'uk']\n"
     ]
    }
   ],
   "source": [
    "from nltk.corpus import swadesh\n",
    "print(swadesh.fileids())"
   ]
  },
  {
   "cell_type": "code",
   "execution_count": 10,
   "metadata": {
    "scrolled": false
   },
   "outputs": [
    {
     "name": "stdout",
     "output_type": "stream",
     "text": [
      "husband                   mari, époux          esposo, marido\n",
      "mother                    mère                 madre\n",
      "father                    père                 padre\n",
      "animal                    animal               animal\n",
      "fish                      poisson              pez, pescado\n",
      "bird                      oiseau               ave, pájaro\n",
      "dog                       chien                perro\n",
      "louse                     pou                  piojo\n",
      "snake                     serpent              serpiente, culebra\n",
      "worm                      ver                  gusano\n",
      "tree                      arbre                árbol\n",
      "forest                    forêt                bosque\n",
      "stick                     bâton                palo\n",
      "fruit                     fruit                fruta\n",
      "seed                      graine               semilla\n",
      "leaf                      feuille              hoja\n",
      "root                      racine               raíz\n",
      "bark (from tree)          écorce               corteza\n",
      "flower                    fleur                flor\n",
      "grass                     herbe                hierba, pasto\n",
      "rope                      corde                cuerda\n",
      "skin                      peau                 piel\n",
      "meat                      viande               carne\n",
      "blood                     sang                 sangre\n",
      "bone                      os                   hueso\n",
      "fat (noun)                graisse              grasa\n",
      "egg                       œuf                  huevo\n",
      "horn                      corne                cuerno\n",
      "tail                      queue                cola\n",
      "feather                   plume                pluma\n",
      "hair                      cheveu               cabello, pelo\n",
      "head                      tête                 cabeza\n",
      "ear                       oreille              oreja\n",
      "eye                       œil                  ojo\n",
      "nose                      nez                  nariz\n",
      "mouth                     bouche               boca\n",
      "tooth                     dent                 diente\n",
      "tongue                    langue               lengua\n",
      "fingernail                ongle                uña\n",
      "foot                      pied                 pie\n"
     ]
    }
   ],
   "source": [
    "en = swadesh.words('en') # English\n",
    "fr = swadesh.words('fr') # French\n",
    "es = swadesh.words('es') # Spanish\n",
    "for i in range(40,80):\n",
    "    print('{:<25} {:<20} {}'.format(en[i],fr[i],es[i]))"
   ]
  },
  {
   "cell_type": "markdown",
   "metadata": {},
   "source": [
    "\n",
    "# ------------------------------------------\n",
    "\n",
    "# Analyze the text"
   ]
  },
  {
   "cell_type": "markdown",
   "metadata": {},
   "source": [
    "what are some functions we can use to analyze the text as a whole?"
   ]
  },
  {
   "cell_type": "markdown",
   "metadata": {},
   "source": [
    "## Word frequency?\n",
    "\n",
    "NLTK provides built-in support for calculating the frequency of each vocabulary item in the text"
   ]
  },
  {
   "cell_type": "code",
   "execution_count": 11,
   "metadata": {},
   "outputs": [
    {
     "name": "stdout",
     "output_type": "stream",
     "text": [
      "<FreqDist with 2789 samples and 44764 outcomes>\n"
     ]
    }
   ],
   "source": [
    "freq_dist = FreqDist(text3)\n",
    "print(freq_dist)"
   ]
  },
  {
   "cell_type": "markdown",
   "metadata": {},
   "source": [
    "## Whe most common __ words in _____\n",
    "\n",
    "nltk provide built-in function for calculating the total number of word tokens in the text are distributed across the vocabulary items"
   ]
  },
  {
   "cell_type": "code",
   "execution_count": 12,
   "metadata": {},
   "outputs": [
    {
     "data": {
      "text/plain": [
       "[(',', 3681),\n",
       " ('and', 2428),\n",
       " ('the', 2411),\n",
       " ('of', 1358),\n",
       " ('.', 1315),\n",
       " ('And', 1250),\n",
       " ('his', 651),\n",
       " ('he', 648),\n",
       " ('to', 611),\n",
       " (';', 605),\n",
       " ('unto', 590),\n",
       " ('in', 588),\n",
       " ('that', 509),\n",
       " ('I', 484),\n",
       " ('said', 476)]"
      ]
     },
     "execution_count": 12,
     "metadata": {},
     "output_type": "execute_result"
    }
   ],
   "source": [
    "freq_dist.most_common(15)"
   ]
  },
  {
   "cell_type": "markdown",
   "metadata": {},
   "source": [
    "if we want to visualize it, we can import matplotlib library to help us out!"
   ]
  },
  {
   "cell_type": "code",
   "execution_count": 17,
   "metadata": {},
   "outputs": [
    {
     "data": {
      "image/png": "[encoded data removed]",
      "text/plain": [
       "<Figure size 432x288 with 1 Axes>"
      ]
     },
     "metadata": {
      "needs_background": "light"
     },
     "output_type": "display_data"
    },
    {
     "data": {
      "image/png": "[encoded data removed]",
      "text/plain": [
       "<Figure size 432x288 with 1 Axes>"
      ]
     },
     "metadata": {
      "needs_background": "light"
     },
     "output_type": "display_data"
    },
    {
     "data": {
      "text/plain": [
       "<matplotlib.axes._subplots.AxesSubplot at 0x1a257f6a50>"
      ]
     },
     "execution_count": 17,
     "metadata": {},
     "output_type": "execute_result"
    }
   ],
   "source": [
    "import matplotlib\n",
    "freq_dist.plot(15, cumulative=False)\n",
    "freq_dist.plot(15, cumulative=True)"
   ]
  },
  {
   "cell_type": "markdown",
   "metadata": {},
   "source": [
    "## let's add some conditions"
   ]
  },
  {
   "cell_type": "code",
   "execution_count": 14,
   "metadata": {},
   "outputs": [
    {
     "data": {
      "text/plain": [
       "FreqDist({'Constitution': 197, 'institutions': 77, 'responsibility': 64, 'administration': 62, 'constitutional': 52, 'governments': 47, 'opportunity': 47, 'circumstances': 42, 'legislation': 40, 'civilization': 38, ...})"
      ]
     },
     "execution_count": 14,
     "metadata": {},
     "output_type": "execute_result"
    }
   ],
   "source": [
    "freq_distB = FreqDist([w for w in text4 if len(w) > 10])\n",
    "freq_distB"
   ]
  },
  {
   "cell_type": "code",
   "execution_count": 15,
   "metadata": {},
   "outputs": [
    {
     "data": {
      "image/png": "[encoded data removed]",
      "text/plain": [
       "<Figure size 432x288 with 1 Axes>"
      ]
     },
     "metadata": {
      "needs_background": "light"
     },
     "output_type": "display_data"
    },
    {
     "data": {
      "text/plain": [
       "<matplotlib.axes._subplots.AxesSubplot at 0x1a25589790>"
      ]
     },
     "execution_count": 15,
     "metadata": {},
     "output_type": "execute_result"
    }
   ],
   "source": [
    "freq_distB.plot(40,cumulative=False)"
   ]
  },
  {
   "cell_type": "code",
   "execution_count": 16,
   "metadata": {},
   "outputs": [
    {
     "data": {
      "text/plain": [
       "FreqDist({'government': 264, 'good': 141, 'governments': 47, 'go': 47, 'govern': 19, 'gone': 12, 'goal': 11, 'governed': 10, 'gold': 10, 'goodness': 9, ...})"
      ]
     },
     "execution_count": 16,
     "metadata": {},
     "output_type": "execute_result"
    }
   ],
   "source": [
    "freq_distC = FreqDist([w for w in text4 if w.startswith('go')])\n",
    "freq_distC"
   ]
  },
  {
   "cell_type": "markdown",
   "metadata": {},
   "source": [
    "## synonyms & antonyms\n",
    "\n",
    "we will use WordNet– a NLTK dictionary that allows you to explore easily relationships among words/concepts"
   ]
  },
  {
   "cell_type": "code",
   "execution_count": 20,
   "metadata": {},
   "outputs": [
    {
     "name": "stdout",
     "output_type": "stream",
     "text": [
      "{'joke', 'jape', 'laughter', 'jest', 'express_mirth', 'express_joy', 'gag', 'laugh'}\n",
      "{'cry'}\n"
     ]
    }
   ],
   "source": [
    "from nltk.corpus import wordnet \n",
    "synonyms = [] \n",
    "antonyms = [] \n",
    "  \n",
    "for syn in wordnet.synsets(\"laugh\"): \n",
    "    for l in syn.lemmas(): \n",
    "        synonyms.append(l.name()) \n",
    "        if l.antonyms(): \n",
    "            antonyms.append(l.antonyms()[0].name()) \n",
    "  \n",
    "print(set(synonyms)) \n",
    "print(set(antonyms)) "
   ]
  },
  {
   "cell_type": "code",
   "execution_count": null,
   "metadata": {},
   "outputs": [],
   "source": []
  }
 ],
 "metadata": {
  "kernelspec": {
   "display_name": "Python 3",
   "language": "python",
   "name": "python3"
  },
  "language_info": {
   "codemirror_mode": {
    "name": "ipython",
    "version": 3
   },
   "file_extension": ".py",
   "mimetype": "text/x-python",
   "name": "python",
   "nbconvert_exporter": "python",
   "pygments_lexer": "ipython3",
   "version": "3.7.4"
  }
 },
 "nbformat": 4,
 "nbformat_minor": 2
}
