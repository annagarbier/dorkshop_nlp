{
 "cells": [
  {
   "cell_type": "markdown",
   "metadata": {},
   "source": [
    "# Let's warm up with\n",
    "\n",
    "### Basic jupyter notebook commands and python operations\n",
    "\n",
    "We will cover:\n",
    "\n",
    "1. [Basic Operation](#basic)\n",
    "1. [Working with String versus List](#svl)\n",
    "1. [String Formatting](#strform)\n",
    "1. [Conditions](#condition)\n",
    "1. [More Basic](#morebasic)"
   ]
  },
  {
   "cell_type": "markdown",
   "metadata": {},
   "source": [
    "<hr>\n",
    "\n",
    "<span style=\"color:orange\">***If this is your first time using jupyter notebook:***</span>\n",
    "<br>\n",
    "- Comment and un-comment your sentence: press \"command + /\" \n",
    "(In Python commenting is # versus in Javascript we us // or /* */)\n",
    "- You can insert new line(we call \"cell\" here) by Insert->cell below/above or simply run the code\n",
    "- In[ ] is your code, press Run button or hit \"shift + return\" to see the output Out[ ]\n",
    "- The number in the square brackets is the number of times you've run the code"
   ]
  },
  {
   "cell_type": "markdown",
   "metadata": {},
   "source": [
    "<hr>\n",
    "\n",
    "# <span id=\"basic\">Basic operations</span>\n",
    "\n",
    "try to run the following operation:"
   ]
  },
  {
   "cell_type": "code",
   "execution_count": 87,
   "metadata": {},
   "outputs": [
    {
     "data": {
      "text/plain": [
       "5"
      ]
     },
     "execution_count": 87,
     "metadata": {},
     "output_type": "execute_result"
    }
   ],
   "source": [
    "1 * 5"
   ]
  },
  {
   "cell_type": "markdown",
   "metadata": {},
   "source": [
    "You can print your output like how you'd use console.log() in Javascript"
   ]
  },
  {
   "cell_type": "code",
   "execution_count": 84,
   "metadata": {},
   "outputs": [
    {
     "name": "stdout",
     "output_type": "stream",
     "text": [
      "bbbbb\n"
     ]
    }
   ],
   "source": [
    "print('b' * 5)"
   ]
  },
  {
   "cell_type": "markdown",
   "metadata": {},
   "source": [
    "With python, you can execute operations like adding string together, or list together"
   ]
  },
  {
   "cell_type": "code",
   "execution_count": 6,
   "metadata": {},
   "outputs": [
    {
     "data": {
      "text/plain": [
       "'Bobby says hi!'"
      ]
     },
     "execution_count": 6,
     "metadata": {},
     "output_type": "execute_result"
    }
   ],
   "source": [
    "\"Bobby\" + \" \" + \"says hi!\""
   ]
  },
  {
   "cell_type": "code",
   "execution_count": 16,
   "metadata": {},
   "outputs": [
    {
     "data": {
      "text/plain": [
       "['Bobby', 'says', 'hi!']"
      ]
     },
     "execution_count": 16,
     "metadata": {},
     "output_type": "execute_result"
    }
   ],
   "source": [
    "[\"Bobby\"] + [\"says\"] + [\"hi!\"]"
   ]
  },
  {
   "cell_type": "code",
   "execution_count": 7,
   "metadata": {},
   "outputs": [
    {
     "data": {
      "text/plain": [
       "\"hello what's my name\""
      ]
     },
     "execution_count": 7,
     "metadata": {},
     "output_type": "execute_result"
    }
   ],
   "source": [
    "\"Hello wHat'S mY NAME\".lower()"
   ]
  },
  {
   "cell_type": "code",
   "execution_count": 8,
   "metadata": {},
   "outputs": [
    {
     "data": {
      "text/plain": [
       "\"HELLO WHAT'S MY NAME\""
      ]
     },
     "execution_count": 8,
     "metadata": {},
     "output_type": "execute_result"
    }
   ],
   "source": [
    "\"Hello wHat'S mY NAME\".upper()"
   ]
  },
  {
   "cell_type": "code",
   "execution_count": 16,
   "metadata": {},
   "outputs": [
    {
     "name": "stdout",
     "output_type": "stream",
     "text": [
      "'In the beg' prints out the first 10 characters of the sentence\n",
      "'the earth.' prints out the last 10 characters of the sentence\n",
      "g God created the he\n"
     ]
    }
   ],
   "source": [
    "sen = \"In the beginning God created the heaven and the earth.\"\n",
    "print(f\"'{sen[:10]}' prints out the first 10 characters of the sentence\")\n",
    "print(f\"'{sen[-10:]}' prints out the last 10 characters of the sentence\")\n",
    "print(f\"{sen[15:35]}\")"
   ]
  },
  {
   "cell_type": "markdown",
   "metadata": {},
   "source": [
    "## other Python string methods\n",
    "\n",
    "https://docs.python.org/2.5/lib/string-methods.html"
   ]
  },
  {
   "cell_type": "markdown",
   "metadata": {},
   "source": [
    "<hr>\n",
    "\n",
    "# <span id=\"svl\">Working with string vs list</span>\n",
    "This is how you assign values to variables and add them to a list:"
   ]
  },
  {
   "cell_type": "code",
   "execution_count": 13,
   "metadata": {},
   "outputs": [],
   "source": [
    "word1 = \"Bobby\"\n",
    "word2 = \"says hi!\""
   ]
  },
  {
   "cell_type": "code",
   "execution_count": 15,
   "metadata": {},
   "outputs": [
    {
     "name": "stdout",
     "output_type": "stream",
     "text": [
      "['Bobby']\n",
      "['Bobby', 'says hi!']\n"
     ]
    }
   ],
   "source": [
    "words = []\n",
    "words.append(word1) # appending word1 to the empty list–\"words\"\n",
    "print(words)\n",
    "words.append(word2) # appending word2 to \"words\" that has word1 in it\n",
    "print(words)"
   ]
  },
  {
   "cell_type": "markdown",
   "metadata": {},
   "source": [
    "### It is common to split sentences into list as a sequence of words is easier to operate\n",
    "\n",
    "We can join the words of a list to make a single string, or split a string into a list"
   ]
  },
  {
   "cell_type": "code",
   "execution_count": 5,
   "metadata": {},
   "outputs": [
    {
     "name": "stdout",
     "output_type": "stream",
     "text": [
      "Bobby says hi!\n",
      "['Bobby', 'says', 'hi!']\n"
     ]
    }
   ],
   "source": [
    "sen = \"Bobby says hi!\"\n",
    "sen_list = sen.split(' ')\n",
    "print(sen)\n",
    "print(sen_list)"
   ]
  },
  {
   "cell_type": "code",
   "execution_count": 22,
   "metadata": {},
   "outputs": [
    {
     "name": "stdout",
     "output_type": "stream",
     "text": [
      "Bobby says hi!\n",
      "Bobby.says.hi!\n"
     ]
    }
   ],
   "source": [
    "# note: ' ' needs to be a seperator\n",
    "print(' '.join(sen_list))\n",
    "print('.'.join(sen_list))"
   ]
  },
  {
   "cell_type": "markdown",
   "metadata": {},
   "source": [
    "#### Here is how you can see the different between working with a string versus working with a list of words"
   ]
  },
  {
   "cell_type": "code",
   "execution_count": 20,
   "metadata": {},
   "outputs": [
    {
     "name": "stdout",
     "output_type": "stream",
     "text": [
      "14\n",
      "3\n"
     ]
    }
   ],
   "source": [
    "print(len(sen)) # Calculating numbers of characters(letters) in a string\n",
    "print(len(sen_list)) # Calculating numbers of elements(words) in a list"
   ]
  },
  {
   "cell_type": "code",
   "execution_count": 35,
   "metadata": {},
   "outputs": [
    {
     "name": "stdout",
     "output_type": "stream",
     "text": [
      "B\n",
      "Bobby\n"
     ]
    }
   ],
   "source": [
    "# Grabbing the first index of the string, which will be the letter \"B\"\n",
    "print(sen[0]) \n",
    "# Grabbing the first index of the list, which will be the word \"Bobby\"\n",
    "print(sen_list[0]) "
   ]
  },
  {
   "cell_type": "code",
   "execution_count": 14,
   "metadata": {},
   "outputs": [
    {
     "data": {
      "text/plain": [
       "'Bobby'"
      ]
     },
     "execution_count": 14,
     "metadata": {},
     "output_type": "execute_result"
    }
   ],
   "source": [
    "import random\n",
    "sen_list[random.randint(0,len(sen_list))] # outputs a random word from the list"
   ]
  },
  {
   "cell_type": "markdown",
   "metadata": {},
   "source": [
    "more random functions: https://docs.python.org/2/library/random.html"
   ]
  },
  {
   "cell_type": "code",
   "execution_count": 76,
   "metadata": {},
   "outputs": [
    {
     "name": "stdout",
     "output_type": "stream",
     "text": [
      "iby!!\n"
     ]
    }
   ],
   "source": [
    "new_sen = ''\n",
    "for i in range(5):\n",
    "    new_sen += sen[random.randint(0,len(sen)-1)]\n",
    "print(new_sen)"
   ]
  },
  {
   "cell_type": "code",
   "execution_count": 77,
   "metadata": {},
   "outputs": [
    {
     "name": "stdout",
     "output_type": "stream",
     "text": [
      " Bobby hi! Bobby says Bobby\n"
     ]
    }
   ],
   "source": [
    "new_list = ''\n",
    "for i in range(5):\n",
    "    new_list += ' ' + sen_list[random.randint(0,len(sen_list)-1)]\n",
    "print(new_list)"
   ]
  },
  {
   "cell_type": "markdown",
   "metadata": {},
   "source": [
    "<hr>\n",
    "\n",
    "# <span id=\"strform\">String formatting</span>\n",
    "\n",
    "Python uses C-style string formatting to create new, formatted strings. \n",
    "<br>The \"%\" operator is used to format a set of variables enclosed in a \"tuple\" (a fixed size list)\n",
    "\n",
    "You can compare them here: https://realpython.com/python-string-formatting/\n",
    "\n",
    "Here are some different ways:"
   ]
  },
  {
   "cell_type": "markdown",
   "metadata": {},
   "source": [
    "### 1. 'old style' where you use % operator\n",
    "%s : string\n",
    "<br>\n",
    "%d : integer\n",
    "<br>\n",
    "%f : float\n",
    "\n",
    "then you use %(variable name) to plug in vairable values."
   ]
  },
  {
   "cell_type": "code",
   "execution_count": 1,
   "metadata": {},
   "outputs": [
    {
     "name": "stdout",
     "output_type": "stream",
     "text": [
      "Bobby says hi!\n",
      "that tree is 5 feet tall.\n"
     ]
    }
   ],
   "source": [
    "name = \"Bobby\"\n",
    "print(\"%s says hi!\" % name)\n",
    "\n",
    "numA = 5\n",
    "objectA = \"tree\"\n",
    "print(\"that %s is %d feet tall.\" %(objectA,numA))"
   ]
  },
  {
   "cell_type": "markdown",
   "metadata": {},
   "source": [
    "### 2. string.format() function\n",
    "\n",
    "You use similarly to the 'old style'\n",
    "<br>\n",
    "Use { } as the place holder, than .format(variable)"
   ]
  },
  {
   "cell_type": "code",
   "execution_count": 2,
   "metadata": {},
   "outputs": [
    {
     "name": "stdout",
     "output_type": "stream",
     "text": [
      "Bobby says hi!\n"
     ]
    }
   ],
   "source": [
    "example_sentence = '{} says hi!'\n",
    "print(example_sentence.format('Bobby'))"
   ]
  },
  {
   "cell_type": "markdown",
   "metadata": {},
   "source": [
    "### 3.  f-Strings (Python 3.6+)\n",
    "\n",
    "Also using { } as the placeholder"
   ]
  },
  {
   "cell_type": "code",
   "execution_count": 24,
   "metadata": {},
   "outputs": [
    {
     "name": "stdout",
     "output_type": "stream",
     "text": [
      "Bob says hi!\n"
     ]
    }
   ],
   "source": [
    "name = \"Bob\"\n",
    "print(f'{name} says hi!')"
   ]
  },
  {
   "cell_type": "markdown",
   "metadata": {},
   "source": [
    "<hr>\n",
    "\n",
    "# <span id=\"condition\">Conditions</span>\n",
    "\n",
    "- Apply ___ to every element\n",
    "- Iterate through a list or a string"
   ]
  },
  {
   "cell_type": "markdown",
   "metadata": {},
   "source": [
    "We know we can add seperator in forming a string."
   ]
  },
  {
   "cell_type": "code",
   "execution_count": 31,
   "metadata": {},
   "outputs": [
    {
     "data": {
      "text/plain": [
       "'Baoab'"
      ]
     },
     "execution_count": 31,
     "metadata": {},
     "output_type": "execute_result"
    }
   ],
   "source": [
    "'a'.join(name)"
   ]
  },
  {
   "cell_type": "markdown",
   "metadata": {
    "scrolled": true
   },
   "source": [
    "If we want to apply that to every element in a string:"
   ]
  },
  {
   "cell_type": "code",
   "execution_count": 34,
   "metadata": {},
   "outputs": [
    {
     "data": {
      "text/plain": [
       "'Baoaba'"
      ]
     },
     "execution_count": 34,
     "metadata": {},
     "output_type": "execute_result"
    }
   ],
   "source": [
    "new_name = ''\n",
    "# We are using a for loop, looping through the string. \n",
    "# Add an 'a' after every letter\n",
    "for i in range(len(name)):\n",
    "    new_name += name[i] + 'a'\n",
    "new_name"
   ]
  },
  {
   "cell_type": "code",
   "execution_count": 41,
   "metadata": {},
   "outputs": [],
   "source": [
    "some_words = [\"Bobby\",\"says\",\"hi\",\"and\",\"Mae\",\"says\",\"hi\",\"too\",\".\"]"
   ]
  },
  {
   "cell_type": "code",
   "execution_count": 42,
   "metadata": {},
   "outputs": [
    {
     "name": "stdout",
     "output_type": "stream",
     "text": [
      "Bobby 5\n",
      "says 4\n",
      "hi 2\n",
      "and 3\n",
      "Mae 3\n",
      "says 4\n",
      "hi 2\n",
      "too 3\n",
      ". 1\n"
     ]
    }
   ],
   "source": [
    "# for each of the element in the list, print the element and the length of the word\n",
    "for w in some_words:\n",
    "    print(w,len(w)) "
   ]
  },
  {
   "cell_type": "code",
   "execution_count": 46,
   "metadata": {},
   "outputs": [
    {
     "name": "stdout",
     "output_type": "stream",
     "text": [
      "{'Bobby': 1, 'says': 2, 'hi': 2, 'and': 1, 'Mae': 1, 'too': 1, '.': 1}\n"
     ]
    }
   ],
   "source": [
    "count = {} # a dictionary, which contains keys:values\n",
    "for w in some_words:\n",
    "    if w in count:\n",
    "        count[w] += 1\n",
    "    else:\n",
    "        count[w] = 1\n",
    "print(count)"
   ]
  },
  {
   "cell_type": "markdown",
   "metadata": {},
   "source": [
    "<hr>\n",
    "\n",
    "## <span id=\"morebasic\">More Python Basics?</span>\n",
    "\n",
    "1. [Python Fundamentals](https://www.learnpython.org/en/Welcome)\n",
    "2. [Natural Language Processing with Python](https://www.nltk.org)\n"
   ]
  },
  {
   "cell_type": "code",
   "execution_count": null,
   "metadata": {},
   "outputs": [],
   "source": []
  }
 ],
 "metadata": {
  "kernelspec": {
   "display_name": "Python 3",
   "language": "python",
   "name": "python3"
  },
  "language_info": {
   "codemirror_mode": {
    "name": "ipython",
    "version": 3
   },
   "file_extension": ".py",
   "mimetype": "text/x-python",
   "name": "python",
   "nbconvert_exporter": "python",
   "pygments_lexer": "ipython3",
   "version": "3.7.6"
  }
 },
 "nbformat": 4,
 "nbformat_minor": 2
}
